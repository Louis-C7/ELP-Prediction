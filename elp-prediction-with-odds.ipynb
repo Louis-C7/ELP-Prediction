{
 "cells": [
  {
   "cell_type": "markdown",
   "metadata": {
    "papermill": {
     "duration": 0.019243,
     "end_time": "2021-01-27T10:07:12.884793",
     "exception": false,
     "start_time": "2021-01-27T10:07:12.865550",
     "status": "completed"
    },
    "tags": []
   },
   "source": [
    "The Goal here (pun intended) is to design a prediction system which can accurately predict if the home team will win or not. We will use the final dataset got by our earlier \"Scraping and Cleaning\" Notebook build our prediction model on."
   ]
  },
  {
   "cell_type": "code",
   "execution_count": 1,
   "metadata": {
    "execution": {
     "iopub.execute_input": "2021-01-27T10:07:12.923945Z",
     "iopub.status.busy": "2021-01-27T10:07:12.922907Z",
     "iopub.status.idle": "2021-01-27T10:07:15.269552Z",
     "shell.execute_reply": "2021-01-27T10:07:15.268753Z"
    },
    "papermill": {
     "duration": 2.366619,
     "end_time": "2021-01-27T10:07:15.269678",
     "exception": false,
     "start_time": "2021-01-27T10:07:12.903059",
     "status": "completed"
    },
    "tags": []
   },
   "outputs": [],
   "source": [
    "# Import the necessary libraries.\n",
    "import pandas as pd\n",
    "import numpy as np\n",
    "import xgboost as xgb\n",
    "from sklearn.linear_model import LogisticRegression\n",
    "from sklearn.ensemble import RandomForestClassifier\n",
    "from sklearn.svm import SVC\n",
    "from IPython.display import display\n",
    "\n",
    "%matplotlib inline"
   ]
  },
  {
   "cell_type": "code",
   "execution_count": 2,
   "metadata": {
    "execution": {
     "iopub.execute_input": "2021-01-27T10:07:15.317125Z",
     "iopub.status.busy": "2021-01-27T10:07:15.316354Z",
     "iopub.status.idle": "2021-01-27T10:07:15.422697Z",
     "shell.execute_reply": "2021-01-27T10:07:15.423194Z"
    },
    "papermill": {
     "duration": 0.136207,
     "end_time": "2021-01-27T10:07:15.423391",
     "exception": false,
     "start_time": "2021-01-27T10:07:15.287184",
     "status": "completed"
    },
    "tags": []
   },
   "outputs": [],
   "source": [
    "# Read data and drop redundant column.\n",
    "data = pd.read_csv('../input/football-results-and-betting-odds-data-of-epl/final_dataset_with_odds.csv')\n",
    "test = pd.read_csv('../input/football-results-and-betting-odds-data-of-epl/with_odds_test.csv')\n"
   ]
  },
  {
   "cell_type": "code",
   "execution_count": 3,
   "metadata": {
    "execution": {
     "iopub.execute_input": "2021-01-27T10:07:15.469849Z",
     "iopub.status.busy": "2021-01-27T10:07:15.469109Z",
     "iopub.status.idle": "2021-01-27T10:07:15.470979Z",
     "shell.execute_reply": "2021-01-27T10:07:15.471545Z"
    },
    "papermill": {
     "duration": 0.031061,
     "end_time": "2021-01-27T10:07:15.471694",
     "exception": false,
     "start_time": "2021-01-27T10:07:15.440633",
     "status": "completed"
    },
    "tags": []
   },
   "outputs": [],
   "source": [
    "col1 = ['FTR','HTGS', 'ATGS', 'HTGC', 'ATGC', 'HomeTeamLP', 'AwayTeamLP',\n",
    "'HTWinStreak3', 'HTWinStreak5', 'HTLossStreak3', 'HTLossStreak5',\n",
    "'ATWinStreak3', 'ATWinStreak5', 'ATLossStreak3', 'ATLossStreak5',\n",
    "'HTFormPts','ATFormPts',\n",
    "'HTGD', 'ATGD', 'DiffPts', 'DiffFormPts', 'DiffLP']\n",
    "\n",
    "col2 = ['FTR','HTGS', 'ATGS', 'HTGC', 'ATGC', 'HomeTeamLP', 'AwayTeamLP',\n",
    "'HTWinStreak3', 'HTWinStreak5', 'HTLossStreak3', 'HTLossStreak5',\n",
    "'ATWinStreak3', 'ATWinStreak5', 'ATLossStreak3', 'ATLossStreak5',\n",
    "'HTFormPts','ATFormPts',\n",
    "'HTGD', 'ATGD', 'DiffPts', 'DiffFormPts', 'DiffLP','B365H','B365D','B365A','IWH','IWD','IWA','LBH','LBD','LBA','WHH','WHD','WHA']\n",
    "\n",
    "col3 = ['FTR','B365H','B365D','B365A','IWH','IWD','IWA','LBH','LBD','LBA','WHH','WHD','WHA']\n",
    "\n",
    "col4 = ['FTR','HTGS', 'ATGS', 'HTGC', 'ATGC', 'HomeTeamLP', 'AwayTeamLP',\n",
    "'HTGD', 'ATGD', 'DiffPts', 'DiffFormPts', 'DiffLP',\n",
    "'HTFormPts','ATFormPts',        \n",
    "'B365H','B365D','B365A','IWH','IWD','IWA','LBH','LBD','LBA','WHH','WHD','WHA']"
   ]
  },
  {
   "cell_type": "code",
   "execution_count": 4,
   "metadata": {
    "execution": {
     "iopub.execute_input": "2021-01-27T10:07:15.510325Z",
     "iopub.status.busy": "2021-01-27T10:07:15.509625Z",
     "iopub.status.idle": "2021-01-27T10:07:15.559373Z",
     "shell.execute_reply": "2021-01-27T10:07:15.559914Z"
    },
    "papermill": {
     "duration": 0.070904,
     "end_time": "2021-01-27T10:07:15.560071",
     "exception": false,
     "start_time": "2021-01-27T10:07:15.489167",
     "status": "completed"
    },
    "tags": []
   },
   "outputs": [
    {
     "data": {
      "text/html": [
       "<div>\n",
       "<style scoped>\n",
       "    .dataframe tbody tr th:only-of-type {\n",
       "        vertical-align: middle;\n",
       "    }\n",
       "\n",
       "    .dataframe tbody tr th {\n",
       "        vertical-align: top;\n",
       "    }\n",
       "\n",
       "    .dataframe thead th {\n",
       "        text-align: right;\n",
       "    }\n",
       "</style>\n",
       "<table border=\"1\" class=\"dataframe\">\n",
       "  <thead>\n",
       "    <tr style=\"text-align: right;\">\n",
       "      <th></th>\n",
       "      <th>FTR</th>\n",
       "      <th>HTGS</th>\n",
       "      <th>ATGS</th>\n",
       "      <th>HTGC</th>\n",
       "      <th>ATGC</th>\n",
       "      <th>HomeTeamLP</th>\n",
       "      <th>AwayTeamLP</th>\n",
       "      <th>HTGD</th>\n",
       "      <th>ATGD</th>\n",
       "      <th>DiffPts</th>\n",
       "      <th>...</th>\n",
       "      <th>B365A</th>\n",
       "      <th>IWH</th>\n",
       "      <th>IWD</th>\n",
       "      <th>IWA</th>\n",
       "      <th>LBH</th>\n",
       "      <th>LBD</th>\n",
       "      <th>LBA</th>\n",
       "      <th>WHH</th>\n",
       "      <th>WHD</th>\n",
       "      <th>WHA</th>\n",
       "    </tr>\n",
       "  </thead>\n",
       "  <tbody>\n",
       "    <tr>\n",
       "      <th>0</th>\n",
       "      <td>NH</td>\n",
       "      <td>0</td>\n",
       "      <td>0</td>\n",
       "      <td>0</td>\n",
       "      <td>0</td>\n",
       "      <td>10.0</td>\n",
       "      <td>17.0</td>\n",
       "      <td>0.0</td>\n",
       "      <td>0.0</td>\n",
       "      <td>0.0</td>\n",
       "      <td>...</td>\n",
       "      <td>4.333</td>\n",
       "      <td>1.8</td>\n",
       "      <td>3.1</td>\n",
       "      <td>3.8</td>\n",
       "      <td>1.615</td>\n",
       "      <td>3.25</td>\n",
       "      <td>5.00</td>\n",
       "      <td>1.66</td>\n",
       "      <td>3.3</td>\n",
       "      <td>4.50</td>\n",
       "    </tr>\n",
       "    <tr>\n",
       "      <th>1</th>\n",
       "      <td>NH</td>\n",
       "      <td>0</td>\n",
       "      <td>0</td>\n",
       "      <td>0</td>\n",
       "      <td>0</td>\n",
       "      <td>14.0</td>\n",
       "      <td>6.0</td>\n",
       "      <td>0.0</td>\n",
       "      <td>0.0</td>\n",
       "      <td>0.0</td>\n",
       "      <td>...</td>\n",
       "      <td>2.200</td>\n",
       "      <td>2.9</td>\n",
       "      <td>3.0</td>\n",
       "      <td>2.2</td>\n",
       "      <td>2.800</td>\n",
       "      <td>3.20</td>\n",
       "      <td>2.20</td>\n",
       "      <td>2.75</td>\n",
       "      <td>3.1</td>\n",
       "      <td>2.30</td>\n",
       "    </tr>\n",
       "    <tr>\n",
       "      <th>2</th>\n",
       "      <td>NH</td>\n",
       "      <td>0</td>\n",
       "      <td>0</td>\n",
       "      <td>0</td>\n",
       "      <td>0</td>\n",
       "      <td>15.0</td>\n",
       "      <td>9.0</td>\n",
       "      <td>0.0</td>\n",
       "      <td>0.0</td>\n",
       "      <td>0.0</td>\n",
       "      <td>...</td>\n",
       "      <td>2.750</td>\n",
       "      <td>2.3</td>\n",
       "      <td>3.0</td>\n",
       "      <td>2.7</td>\n",
       "      <td>2.250</td>\n",
       "      <td>3.20</td>\n",
       "      <td>2.75</td>\n",
       "      <td>2.30</td>\n",
       "      <td>3.1</td>\n",
       "      <td>2.75</td>\n",
       "    </tr>\n",
       "    <tr>\n",
       "      <th>3</th>\n",
       "      <td>H</td>\n",
       "      <td>0</td>\n",
       "      <td>0</td>\n",
       "      <td>0</td>\n",
       "      <td>0</td>\n",
       "      <td>13.0</td>\n",
       "      <td>16.0</td>\n",
       "      <td>0.0</td>\n",
       "      <td>0.0</td>\n",
       "      <td>0.0</td>\n",
       "      <td>...</td>\n",
       "      <td>4.333</td>\n",
       "      <td>1.8</td>\n",
       "      <td>3.1</td>\n",
       "      <td>3.8</td>\n",
       "      <td>1.833</td>\n",
       "      <td>3.20</td>\n",
       "      <td>3.75</td>\n",
       "      <td>1.72</td>\n",
       "      <td>3.2</td>\n",
       "      <td>4.33</td>\n",
       "    </tr>\n",
       "    <tr>\n",
       "      <th>4</th>\n",
       "      <td>H</td>\n",
       "      <td>0</td>\n",
       "      <td>0</td>\n",
       "      <td>0</td>\n",
       "      <td>0</td>\n",
       "      <td>5.0</td>\n",
       "      <td>18.0</td>\n",
       "      <td>0.0</td>\n",
       "      <td>0.0</td>\n",
       "      <td>0.0</td>\n",
       "      <td>...</td>\n",
       "      <td>4.500</td>\n",
       "      <td>1.7</td>\n",
       "      <td>3.2</td>\n",
       "      <td>4.2</td>\n",
       "      <td>1.615</td>\n",
       "      <td>3.50</td>\n",
       "      <td>4.50</td>\n",
       "      <td>1.66</td>\n",
       "      <td>3.3</td>\n",
       "      <td>4.50</td>\n",
       "    </tr>\n",
       "  </tbody>\n",
       "</table>\n",
       "<p>5 rows × 26 columns</p>\n",
       "</div>"
      ],
      "text/plain": [
       "  FTR  HTGS  ATGS  HTGC  ATGC  HomeTeamLP  AwayTeamLP  HTGD  ATGD  DiffPts  \\\n",
       "0  NH     0     0     0     0        10.0        17.0   0.0   0.0      0.0   \n",
       "1  NH     0     0     0     0        14.0         6.0   0.0   0.0      0.0   \n",
       "2  NH     0     0     0     0        15.0         9.0   0.0   0.0      0.0   \n",
       "3   H     0     0     0     0        13.0        16.0   0.0   0.0      0.0   \n",
       "4   H     0     0     0     0         5.0        18.0   0.0   0.0      0.0   \n",
       "\n",
       "   ...  B365A  IWH  IWD  IWA    LBH   LBD   LBA   WHH  WHD   WHA  \n",
       "0  ...  4.333  1.8  3.1  3.8  1.615  3.25  5.00  1.66  3.3  4.50  \n",
       "1  ...  2.200  2.9  3.0  2.2  2.800  3.20  2.20  2.75  3.1  2.30  \n",
       "2  ...  2.750  2.3  3.0  2.7  2.250  3.20  2.75  2.30  3.1  2.75  \n",
       "3  ...  4.333  1.8  3.1  3.8  1.833  3.20  3.75  1.72  3.2  4.33  \n",
       "4  ...  4.500  1.7  3.2  4.2  1.615  3.50  4.50  1.66  3.3  4.50  \n",
       "\n",
       "[5 rows x 26 columns]"
      ]
     },
     "metadata": {},
     "output_type": "display_data"
    }
   ],
   "source": [
    "# Remove first 3 matchweeks\n",
    "#data = data[data.MW > 3]\n",
    "'''\n",
    "data.drop([\n",
    "    'Unnamed: 0','HomeTeam', 'AwayTeam_x', 'Date', 'AwayTeam_y',\n",
    "    'MW',\n",
    "    #'HTGD', 'ATGD',\n",
    "    'HTFormPtsStr', 'ATFormPtsStr', \n",
    "    'FTHG', 'FTAG',\n",
    "    #'HTGS', 'ATGS', 'HTGC', 'ATGC',\n",
    "    #'HomeTeamLP', 'AwayTeamLP',\n",
    "    #'DiffPts','DiffFormPts','DiffLP',\n",
    "    #'HTFormPtsStr', 'ATFormPtsStr',\n",
    "    'HTP', 'ATP',\n",
    "    'HTFormPts','ATFormPts',\n",
    "    #'B365H','B365D','B365A','IWH','IWD','IWA','LBH','LBD','LBA','WHH','WHD','WHA'\n",
    "    'HM1', 'HM2', 'HM3', 'AM1', 'AM2', 'AM3','HM4','HM5','AM4','AM5'\n",
    "    #,'HTLossStreak5','ATLossStreak5','HTWinStreak5','ATWinStreak5'\n",
    "    #,'HTWinStreak3','HTLossStreak3','ATWinStreak3','ATLossStreak3'\n",
    "    \n",
    "],1, inplace=True)\n",
    "'''\n",
    "data = data[col4]\n",
    "\n",
    "# Preview data.\n",
    "display(data.head())"
   ]
  },
  {
   "cell_type": "markdown",
   "metadata": {
    "papermill": {
     "duration": 0.017887,
     "end_time": "2021-01-27T10:07:15.596639",
     "exception": false,
     "start_time": "2021-01-27T10:07:15.578752",
     "status": "completed"
    },
    "tags": []
   },
   "source": [
    "## Data Exploration"
   ]
  },
  {
   "cell_type": "code",
   "execution_count": 5,
   "metadata": {
    "execution": {
     "iopub.execute_input": "2021-01-27T10:07:15.636831Z",
     "iopub.status.busy": "2021-01-27T10:07:15.636162Z",
     "iopub.status.idle": "2021-01-27T10:07:15.649610Z",
     "shell.execute_reply": "2021-01-27T10:07:15.648940Z"
    },
    "papermill": {
     "duration": 0.034852,
     "end_time": "2021-01-27T10:07:15.649725",
     "exception": false,
     "start_time": "2021-01-27T10:07:15.614873",
     "status": "completed"
    },
    "tags": []
   },
   "outputs": [
    {
     "name": "stdout",
     "output_type": "stream",
     "text": [
      "Total number of matches: 6000\n",
      "Number of features: 25\n",
      "Number of matches won by home team: 2787\n",
      "Win rate of home team: 46.45%\n"
     ]
    }
   ],
   "source": [
    "# Total number of students.\n",
    "n_matches = data.shape[0]\n",
    "\n",
    "# Calculate number of features.\n",
    "n_features = data.shape[1] - 1\n",
    "\n",
    "# Calculate matches won by home team.\n",
    "n_homewins = len(data[data.FTR == 'H'])\n",
    "\n",
    "# Calculate win rate for home team.\n",
    "win_rate = (float(n_homewins) / (n_matches)) * 100\n",
    "\n",
    "# Print the results\n",
    "print(\"Total number of matches: {}\".format(n_matches))\n",
    "print(\"Number of features: {}\".format(n_features))\n",
    "print(\"Number of matches won by home team: {}\".format(n_homewins))\n",
    "print(\"Win rate of home team: {:.2f}%\".format(win_rate))"
   ]
  },
  {
   "cell_type": "markdown",
   "metadata": {
    "papermill": {
     "duration": 0.018397,
     "end_time": "2021-01-27T10:07:15.686930",
     "exception": false,
     "start_time": "2021-01-27T10:07:15.668533",
     "status": "completed"
    },
    "tags": []
   },
   "source": [
    "# Visualising distribution of data\n",
    "from pandas.plotting import scatter_matrix\n",
    "odds = ['B365H','B365D','B365A','IWH','IWD','IWA','LBH','LBD','LBA','WHH','WHD','WHA']\n",
    "\n",
    "\n",
    "scatter_matrix(data[odds[::-1]], figsize=(10,10))"
   ]
  },
  {
   "cell_type": "markdown",
   "metadata": {
    "papermill": {
     "duration": 0.018429,
     "end_time": "2021-01-27T10:07:15.724032",
     "exception": false,
     "start_time": "2021-01-27T10:07:15.705603",
     "status": "completed"
    },
    "tags": []
   },
   "source": [
    "scatter_matrix(data[['B365H','B365D','B365A','IWH','IWD','IWA','LBH','LBD','LBA','WHH','WHD','WHA']], figsize=(10,10))"
   ]
  },
  {
   "cell_type": "markdown",
   "metadata": {
    "papermill": {
     "duration": 0.018682,
     "end_time": "2021-01-27T10:07:15.761407",
     "exception": false,
     "start_time": "2021-01-27T10:07:15.742725",
     "status": "completed"
    },
    "tags": []
   },
   "source": [
    "## Preparing the Data"
   ]
  },
  {
   "cell_type": "code",
   "execution_count": 6,
   "metadata": {
    "execution": {
     "iopub.execute_input": "2021-01-27T10:07:15.804633Z",
     "iopub.status.busy": "2021-01-27T10:07:15.803956Z",
     "iopub.status.idle": "2021-01-27T10:07:15.809264Z",
     "shell.execute_reply": "2021-01-27T10:07:15.808597Z"
    },
    "papermill": {
     "duration": 0.029492,
     "end_time": "2021-01-27T10:07:15.809381",
     "exception": false,
     "start_time": "2021-01-27T10:07:15.779889",
     "status": "completed"
    },
    "tags": []
   },
   "outputs": [
    {
     "data": {
      "text/plain": [
       "Index(['FTR', 'HTGS', 'ATGS', 'HTGC', 'ATGC', 'HomeTeamLP', 'AwayTeamLP',\n",
       "       'HTGD', 'ATGD', 'DiffPts', 'DiffFormPts', 'DiffLP', 'HTFormPts',\n",
       "       'ATFormPts', 'B365H', 'B365D', 'B365A', 'IWH', 'IWD', 'IWA', 'LBH',\n",
       "       'LBD', 'LBA', 'WHH', 'WHD', 'WHA'],\n",
       "      dtype='object')"
      ]
     },
     "execution_count": 6,
     "metadata": {},
     "output_type": "execute_result"
    }
   ],
   "source": [
    "data.columns"
   ]
  },
  {
   "cell_type": "code",
   "execution_count": 7,
   "metadata": {
    "execution": {
     "iopub.execute_input": "2021-01-27T10:07:15.852315Z",
     "iopub.status.busy": "2021-01-27T10:07:15.851258Z",
     "iopub.status.idle": "2021-01-27T10:07:15.859530Z",
     "shell.execute_reply": "2021-01-27T10:07:15.859981Z"
    },
    "papermill": {
     "duration": 0.031312,
     "end_time": "2021-01-27T10:07:15.860125",
     "exception": false,
     "start_time": "2021-01-27T10:07:15.828813",
     "status": "completed"
    },
    "tags": []
   },
   "outputs": [
    {
     "data": {
      "text/plain": [
       "\"\\n# Standardising the data.\\nfrom sklearn.preprocessing import scale\\n# all\\ncols = [['HTGS', 'ATGS', 'HTGC', 'ATGC','DiffLP'\\n         ,'HomeTeamLP', 'AwayTeamLP'\\n         #,'B365H','B365D','B365A','IWH','IWD','IWA','LBH','LBD','LBA','WHH','WHD','WHA'\\n        ]]\\n# odds\\n#cols = [['B365H','B365D','B365A','IWH','IWD','IWA','LBH','LBD','LBA','WHH','WHD','WHA'\\n#        ]]\\nfor col in cols:\\n    X_all[col] = scale(X_all[col])\\n\""
      ]
     },
     "execution_count": 7,
     "metadata": {},
     "output_type": "execute_result"
    }
   ],
   "source": [
    "# Separate into feature set and target variable\n",
    "X_all = data.drop(['FTR'],1)\n",
    "y_all = data['FTR']\n",
    "'''\n",
    "# Standardising the data.\n",
    "from sklearn.preprocessing import scale\n",
    "# all\n",
    "cols = [['HTGS', 'ATGS', 'HTGC', 'ATGC','DiffLP'\n",
    "         ,'HomeTeamLP', 'AwayTeamLP'\n",
    "         #,'B365H','B365D','B365A','IWH','IWD','IWA','LBH','LBD','LBA','WHH','WHD','WHA'\n",
    "        ]]\n",
    "# odds\n",
    "#cols = [['B365H','B365D','B365A','IWH','IWD','IWA','LBH','LBD','LBA','WHH','WHD','WHA'\n",
    "#        ]]\n",
    "for col in cols:\n",
    "    X_all[col] = scale(X_all[col])\n",
    "'''\n",
    "    \n"
   ]
  },
  {
   "cell_type": "markdown",
   "metadata": {
    "papermill": {
     "duration": 0.019376,
     "end_time": "2021-01-27T10:07:15.899285",
     "exception": false,
     "start_time": "2021-01-27T10:07:15.879909",
     "status": "completed"
    },
    "tags": []
   },
   "source": [
    "X_all.HM1 = X_all.HM1.astype('str')\n",
    "X_all.HM2 = X_all.HM2.astype('str')\n",
    "X_all.HM3 = X_all.HM3.astype('str')\n",
    "X_all.AM1 = X_all.AM1.astype('str')\n",
    "X_all.AM2 = X_all.AM2.astype('str')\n",
    "X_all.AM3 = X_all.AM3.astype('str')\n",
    "\n",
    "def preprocess_features(X):\n",
    "    ''' Preprocesses the football data and converts catagorical variables into dummy variables. '''\n",
    "    \n",
    "    # Initialize new output DataFrame\n",
    "    output = pd.DataFrame(index = X.index)\n",
    "\n",
    "    # Investigate each feature column for the data\n",
    "    for col, col_data in X.iteritems():\n",
    "\n",
    "        # If data type is categorical, convert to dummy variables\n",
    "        if col_data.dtype == object:\n",
    "            col_data = pd.get_dummies(col_data, prefix = col)\n",
    "                    \n",
    "        # Collect the revised columns\n",
    "        output = output.join(col_data)\n",
    "    \n",
    "    return output\n",
    "\n",
    "X_all = preprocess_features(X_all)\n",
    "print(\"Processed feature columns ({} total features):\\n{}\".format(len(X_all.columns), list(X_all.columns)))"
   ]
  },
  {
   "cell_type": "code",
   "execution_count": 8,
   "metadata": {
    "execution": {
     "iopub.execute_input": "2021-01-27T10:07:15.943362Z",
     "iopub.status.busy": "2021-01-27T10:07:15.941989Z",
     "iopub.status.idle": "2021-01-27T10:07:15.971625Z",
     "shell.execute_reply": "2021-01-27T10:07:15.972156Z"
    },
    "papermill": {
     "duration": 0.053457,
     "end_time": "2021-01-27T10:07:15.972335",
     "exception": false,
     "start_time": "2021-01-27T10:07:15.918878",
     "status": "completed"
    },
    "tags": []
   },
   "outputs": [
    {
     "name": "stdout",
     "output_type": "stream",
     "text": [
      "\n",
      "Feature values:\n"
     ]
    },
    {
     "data": {
      "text/html": [
       "<div>\n",
       "<style scoped>\n",
       "    .dataframe tbody tr th:only-of-type {\n",
       "        vertical-align: middle;\n",
       "    }\n",
       "\n",
       "    .dataframe tbody tr th {\n",
       "        vertical-align: top;\n",
       "    }\n",
       "\n",
       "    .dataframe thead th {\n",
       "        text-align: right;\n",
       "    }\n",
       "</style>\n",
       "<table border=\"1\" class=\"dataframe\">\n",
       "  <thead>\n",
       "    <tr style=\"text-align: right;\">\n",
       "      <th></th>\n",
       "      <th>HTGS</th>\n",
       "      <th>ATGS</th>\n",
       "      <th>HTGC</th>\n",
       "      <th>ATGC</th>\n",
       "      <th>HomeTeamLP</th>\n",
       "      <th>AwayTeamLP</th>\n",
       "      <th>HTGD</th>\n",
       "      <th>ATGD</th>\n",
       "      <th>DiffPts</th>\n",
       "      <th>DiffFormPts</th>\n",
       "      <th>...</th>\n",
       "      <th>B365A</th>\n",
       "      <th>IWH</th>\n",
       "      <th>IWD</th>\n",
       "      <th>IWA</th>\n",
       "      <th>LBH</th>\n",
       "      <th>LBD</th>\n",
       "      <th>LBA</th>\n",
       "      <th>WHH</th>\n",
       "      <th>WHD</th>\n",
       "      <th>WHA</th>\n",
       "    </tr>\n",
       "  </thead>\n",
       "  <tbody>\n",
       "    <tr>\n",
       "      <th>0</th>\n",
       "      <td>0</td>\n",
       "      <td>0</td>\n",
       "      <td>0</td>\n",
       "      <td>0</td>\n",
       "      <td>10.0</td>\n",
       "      <td>17.0</td>\n",
       "      <td>0.0</td>\n",
       "      <td>0.0</td>\n",
       "      <td>0.0</td>\n",
       "      <td>0.0</td>\n",
       "      <td>...</td>\n",
       "      <td>4.333</td>\n",
       "      <td>1.8</td>\n",
       "      <td>3.1</td>\n",
       "      <td>3.8</td>\n",
       "      <td>1.615</td>\n",
       "      <td>3.25</td>\n",
       "      <td>5.00</td>\n",
       "      <td>1.66</td>\n",
       "      <td>3.3</td>\n",
       "      <td>4.50</td>\n",
       "    </tr>\n",
       "    <tr>\n",
       "      <th>1</th>\n",
       "      <td>0</td>\n",
       "      <td>0</td>\n",
       "      <td>0</td>\n",
       "      <td>0</td>\n",
       "      <td>14.0</td>\n",
       "      <td>6.0</td>\n",
       "      <td>0.0</td>\n",
       "      <td>0.0</td>\n",
       "      <td>0.0</td>\n",
       "      <td>0.0</td>\n",
       "      <td>...</td>\n",
       "      <td>2.200</td>\n",
       "      <td>2.9</td>\n",
       "      <td>3.0</td>\n",
       "      <td>2.2</td>\n",
       "      <td>2.800</td>\n",
       "      <td>3.20</td>\n",
       "      <td>2.20</td>\n",
       "      <td>2.75</td>\n",
       "      <td>3.1</td>\n",
       "      <td>2.30</td>\n",
       "    </tr>\n",
       "    <tr>\n",
       "      <th>2</th>\n",
       "      <td>0</td>\n",
       "      <td>0</td>\n",
       "      <td>0</td>\n",
       "      <td>0</td>\n",
       "      <td>15.0</td>\n",
       "      <td>9.0</td>\n",
       "      <td>0.0</td>\n",
       "      <td>0.0</td>\n",
       "      <td>0.0</td>\n",
       "      <td>0.0</td>\n",
       "      <td>...</td>\n",
       "      <td>2.750</td>\n",
       "      <td>2.3</td>\n",
       "      <td>3.0</td>\n",
       "      <td>2.7</td>\n",
       "      <td>2.250</td>\n",
       "      <td>3.20</td>\n",
       "      <td>2.75</td>\n",
       "      <td>2.30</td>\n",
       "      <td>3.1</td>\n",
       "      <td>2.75</td>\n",
       "    </tr>\n",
       "    <tr>\n",
       "      <th>3</th>\n",
       "      <td>0</td>\n",
       "      <td>0</td>\n",
       "      <td>0</td>\n",
       "      <td>0</td>\n",
       "      <td>13.0</td>\n",
       "      <td>16.0</td>\n",
       "      <td>0.0</td>\n",
       "      <td>0.0</td>\n",
       "      <td>0.0</td>\n",
       "      <td>0.0</td>\n",
       "      <td>...</td>\n",
       "      <td>4.333</td>\n",
       "      <td>1.8</td>\n",
       "      <td>3.1</td>\n",
       "      <td>3.8</td>\n",
       "      <td>1.833</td>\n",
       "      <td>3.20</td>\n",
       "      <td>3.75</td>\n",
       "      <td>1.72</td>\n",
       "      <td>3.2</td>\n",
       "      <td>4.33</td>\n",
       "    </tr>\n",
       "    <tr>\n",
       "      <th>4</th>\n",
       "      <td>0</td>\n",
       "      <td>0</td>\n",
       "      <td>0</td>\n",
       "      <td>0</td>\n",
       "      <td>5.0</td>\n",
       "      <td>18.0</td>\n",
       "      <td>0.0</td>\n",
       "      <td>0.0</td>\n",
       "      <td>0.0</td>\n",
       "      <td>0.0</td>\n",
       "      <td>...</td>\n",
       "      <td>4.500</td>\n",
       "      <td>1.7</td>\n",
       "      <td>3.2</td>\n",
       "      <td>4.2</td>\n",
       "      <td>1.615</td>\n",
       "      <td>3.50</td>\n",
       "      <td>4.50</td>\n",
       "      <td>1.66</td>\n",
       "      <td>3.3</td>\n",
       "      <td>4.50</td>\n",
       "    </tr>\n",
       "  </tbody>\n",
       "</table>\n",
       "<p>5 rows × 25 columns</p>\n",
       "</div>"
      ],
      "text/plain": [
       "   HTGS  ATGS  HTGC  ATGC  HomeTeamLP  AwayTeamLP  HTGD  ATGD  DiffPts  \\\n",
       "0     0     0     0     0        10.0        17.0   0.0   0.0      0.0   \n",
       "1     0     0     0     0        14.0         6.0   0.0   0.0      0.0   \n",
       "2     0     0     0     0        15.0         9.0   0.0   0.0      0.0   \n",
       "3     0     0     0     0        13.0        16.0   0.0   0.0      0.0   \n",
       "4     0     0     0     0         5.0        18.0   0.0   0.0      0.0   \n",
       "\n",
       "   DiffFormPts  ...  B365A  IWH  IWD  IWA    LBH   LBD   LBA   WHH  WHD   WHA  \n",
       "0          0.0  ...  4.333  1.8  3.1  3.8  1.615  3.25  5.00  1.66  3.3  4.50  \n",
       "1          0.0  ...  2.200  2.9  3.0  2.2  2.800  3.20  2.20  2.75  3.1  2.30  \n",
       "2          0.0  ...  2.750  2.3  3.0  2.7  2.250  3.20  2.75  2.30  3.1  2.75  \n",
       "3          0.0  ...  4.333  1.8  3.1  3.8  1.833  3.20  3.75  1.72  3.2  4.33  \n",
       "4          0.0  ...  4.500  1.7  3.2  4.2  1.615  3.50  4.50  1.66  3.3  4.50  \n",
       "\n",
       "[5 rows x 25 columns]"
      ]
     },
     "metadata": {},
     "output_type": "display_data"
    }
   ],
   "source": [
    "# Show the feature information by printing the first five rows\n",
    "print(\"\\nFeature values:\")\n",
    "display(X_all.head())"
   ]
  },
  {
   "cell_type": "code",
   "execution_count": 9,
   "metadata": {
    "execution": {
     "iopub.execute_input": "2021-01-27T10:07:16.023325Z",
     "iopub.status.busy": "2021-01-27T10:07:16.022198Z",
     "iopub.status.idle": "2021-01-27T10:07:16.042083Z",
     "shell.execute_reply": "2021-01-27T10:07:16.042606Z"
    },
    "papermill": {
     "duration": 0.047167,
     "end_time": "2021-01-27T10:07:16.042763",
     "exception": false,
     "start_time": "2021-01-27T10:07:15.995596",
     "status": "completed"
    },
    "tags": []
   },
   "outputs": [
    {
     "data": {
      "text/plain": [
       "<bound method DataFrame.info of       HTGS  ATGS  HTGC  ATGC  HomeTeamLP  AwayTeamLP      HTGD      ATGD  \\\n",
       "0        0     0     0     0        10.0        17.0  0.000000  0.000000   \n",
       "1        0     0     0     0        14.0         6.0  0.000000  0.000000   \n",
       "2        0     0     0     0        15.0         9.0  0.000000  0.000000   \n",
       "3        0     0     0     0        13.0        16.0  0.000000  0.000000   \n",
       "4        0     0     0     0         5.0        18.0  0.000000  0.000000   \n",
       "...    ...   ...   ...   ...         ...         ...       ...       ...   \n",
       "5995    20    15    23    30        14.0        18.0 -0.176471 -0.882353   \n",
       "5996    17    25    19    26        18.0        12.0 -0.117647 -0.058824   \n",
       "5997    19    33    22    13        15.0         5.0 -0.176471  1.176471   \n",
       "5998    34    28     6    26         4.0         2.0  1.647059  0.117647   \n",
       "5999    13    35    30    20        17.0         6.0 -1.000000  0.882353   \n",
       "\n",
       "       DiffPts  DiffFormPts  ...  B365A   IWH  IWD   IWA    LBH   LBD   LBA  \\\n",
       "0     0.000000     0.000000  ...  4.333  1.80  3.1  3.80  1.615  3.25  5.00   \n",
       "1     0.000000     0.000000  ...  2.200  2.90  3.0  2.20  2.800  3.20  2.20   \n",
       "2     0.000000     0.000000  ...  2.750  2.30  3.0  2.70  2.250  3.20  2.75   \n",
       "3     0.000000     0.000000  ...  4.333  1.80  3.1  3.80  1.833  3.20  3.75   \n",
       "4     0.000000     0.000000  ...  4.500  1.70  3.2  4.20  1.615  3.50  4.50   \n",
       "...        ...          ...  ...    ...   ...  ...   ...    ...   ...   ...   \n",
       "5995  0.411765    -0.411765  ...  6.000  1.70  3.8  5.00  1.630  3.99  6.37   \n",
       "5996 -0.058824     0.235294  ...  4.330  2.00  3.4  3.80  2.020  3.48  4.20   \n",
       "5997 -0.764706     0.000000  ...  1.500  7.20  4.4  1.45  7.640  4.37  1.51   \n",
       "5998  0.941176     0.529412  ...  6.000  1.65  4.0  5.10  1.530  4.51  6.76   \n",
       "5999 -1.470588    -0.529412  ...  1.900  3.75  3.8  1.90  3.870  3.90  1.98   \n",
       "\n",
       "       WHH   WHD   WHA  \n",
       "0     1.66  3.30  4.50  \n",
       "1     2.75  3.10  2.30  \n",
       "2     2.30  3.10  2.75  \n",
       "3     1.72  3.20  4.33  \n",
       "4     1.66  3.30  4.50  \n",
       "...    ...   ...   ...  \n",
       "5995  1.60  3.90  6.00  \n",
       "5996  1.95  3.50  4.00  \n",
       "5997  7.00  4.33  1.47  \n",
       "5998  1.52  4.33  6.00  \n",
       "5999  3.90  3.75  1.91  \n",
       "\n",
       "[6000 rows x 25 columns]>"
      ]
     },
     "execution_count": 9,
     "metadata": {},
     "output_type": "execute_result"
    }
   ],
   "source": [
    "X_all.info"
   ]
  },
  {
   "cell_type": "code",
   "execution_count": 10,
   "metadata": {
    "execution": {
     "iopub.execute_input": "2021-01-27T10:07:16.090015Z",
     "iopub.status.busy": "2021-01-27T10:07:16.089217Z",
     "iopub.status.idle": "2021-01-27T10:07:16.110108Z",
     "shell.execute_reply": "2021-01-27T10:07:16.109437Z"
    },
    "papermill": {
     "duration": 0.045674,
     "end_time": "2021-01-27T10:07:16.110221",
     "exception": false,
     "start_time": "2021-01-27T10:07:16.064547",
     "status": "completed"
    },
    "tags": []
   },
   "outputs": [],
   "source": [
    "from sklearn.model_selection import train_test_split\n",
    "\n",
    "# Shuffle and split the dataset into training and testing set.\n",
    "X_train, X_test, y_train, y_test = train_test_split(X_all, y_all, \n",
    "                                                    test_size = 1000,\n",
    "                                                    random_state = 20,\n",
    "                                                    stratify = y_all)"
   ]
  },
  {
   "cell_type": "markdown",
   "metadata": {
    "papermill": {
     "duration": 0.021496,
     "end_time": "2021-01-27T10:07:16.153673",
     "exception": false,
     "start_time": "2021-01-27T10:07:16.132177",
     "status": "completed"
    },
    "tags": []
   },
   "source": [
    "## Training and Evaluating Models"
   ]
  },
  {
   "cell_type": "code",
   "execution_count": 11,
   "metadata": {
    "execution": {
     "iopub.execute_input": "2021-01-27T10:07:16.211693Z",
     "iopub.status.busy": "2021-01-27T10:07:16.211002Z",
     "iopub.status.idle": "2021-01-27T10:07:16.214354Z",
     "shell.execute_reply": "2021-01-27T10:07:16.213787Z"
    },
    "papermill": {
     "duration": 0.039061,
     "end_time": "2021-01-27T10:07:16.214475",
     "exception": false,
     "start_time": "2021-01-27T10:07:16.175414",
     "status": "completed"
    },
    "tags": []
   },
   "outputs": [],
   "source": [
    "from time import time \n",
    "from sklearn.metrics import f1_score\n",
    "\n",
    "def train_classifier(clf, X_train, y_train):\n",
    "    ''' Fits a classifier to the training data. '''\n",
    "    \n",
    "    # Start the clock, train the classifier, then stop the clock\n",
    "    start = time()\n",
    "    clf.fit(X_train, y_train)\n",
    "    end = time()\n",
    "    \n",
    "    # Print the results\n",
    "    print(\"Trained model in {:.4f} seconds\".format(end - start))\n",
    "\n",
    "    \n",
    "def predict_labels(clf, features, target):\n",
    "    ''' Makes predictions using a fit classifier based on F1 score. '''\n",
    "    \n",
    "    # Start the clock, make predictions, then stop the clock\n",
    "    start = time()\n",
    "    y_pred = clf.predict(features)\n",
    "    \n",
    "    end = time()\n",
    "    # Print and return results\n",
    "    print(\"Made predictions in {:.4f} seconds.\".format(end - start))\n",
    "    \n",
    "    return f1_score(target, y_pred, pos_label='H'), sum(target == y_pred) / float(len(y_pred))\n",
    "\n",
    "\n",
    "def train_predict(clf, X_train, y_train, X_test, y_test):\n",
    "    ''' Train and predict using a classifer based on F1 score. '''\n",
    "    \n",
    "    # Indicate the classifier and the training set size\n",
    "    print(\"Training a {} using a training set size of {}. . .\".format(clf.__class__.__name__, len(X_train)))\n",
    "    \n",
    "    # Train the classifier\n",
    "    train_classifier(clf, X_train, y_train)\n",
    "    \n",
    "    # Print the results of prediction for both training and testing\n",
    "    f1, acc = predict_labels(clf, X_train, y_train)\n",
    "    print(f1, acc)\n",
    "    print(\"F1 score and accuracy score for training set: {:.4f} , {:.4f}.\".format(f1 , acc))\n",
    "    \n",
    "    f1, acc = predict_labels(clf, X_test, y_test)\n",
    "    print(\"F1 score and accuracy score for test set: {:.4f} , {:.4f}.\".format(f1 , acc))"
   ]
  },
  {
   "cell_type": "code",
   "execution_count": 12,
   "metadata": {
    "execution": {
     "iopub.execute_input": "2021-01-27T10:07:16.270410Z",
     "iopub.status.busy": "2021-01-27T10:07:16.269195Z",
     "iopub.status.idle": "2021-01-27T10:07:20.218724Z",
     "shell.execute_reply": "2021-01-27T10:07:20.219559Z"
    },
    "papermill": {
     "duration": 3.983363,
     "end_time": "2021-01-27T10:07:20.219740",
     "exception": false,
     "start_time": "2021-01-27T10:07:16.236377",
     "status": "completed"
    },
    "tags": []
   },
   "outputs": [
    {
     "name": "stdout",
     "output_type": "stream",
     "text": [
      "Training a LogisticRegression using a training set size of 5000. . .\n"
     ]
    },
    {
     "name": "stderr",
     "output_type": "stream",
     "text": [
      "/opt/conda/lib/python3.7/site-packages/sklearn/linear_model/_logistic.py:764: ConvergenceWarning: lbfgs failed to converge (status=1):\n",
      "STOP: TOTAL NO. of ITERATIONS REACHED LIMIT.\n",
      "\n",
      "Increase the number of iterations (max_iter) or scale the data as shown in:\n",
      "    https://scikit-learn.org/stable/modules/preprocessing.html\n",
      "Please also refer to the documentation for alternative solver options:\n",
      "    https://scikit-learn.org/stable/modules/linear_model.html#logistic-regression\n",
      "  extra_warning_msg=_LOGISTIC_SOLVER_CONVERGENCE_MSG)\n"
     ]
    },
    {
     "name": "stdout",
     "output_type": "stream",
     "text": [
      "Trained model in 0.2120 seconds\n",
      "Made predictions in 0.0037 seconds.\n",
      "0.6052076002814919 0.6634\n",
      "F1 score and accuracy score for training set: 0.6052 , 0.6634.\n",
      "Made predictions in 0.0031 seconds.\n",
      "F1 score and accuracy score for test set: 0.6175 , 0.6680.\n",
      "\n",
      "Training a SVC using a training set size of 5000. . .\n",
      "Trained model in 1.7286 seconds\n",
      "Made predictions in 1.0441 seconds.\n",
      "0.5689914701455094 0.6564\n",
      "F1 score and accuracy score for training set: 0.5690 , 0.6564.\n",
      "Made predictions in 0.2120 seconds.\n",
      "F1 score and accuracy score for test set: 0.5764 , 0.6620.\n",
      "\n",
      "Training a XGBClassifier using a training set size of 5000. . .\n",
      "Trained model in 0.4467 seconds\n",
      "Made predictions in 0.0177 seconds.\n",
      "0.9736095965103598 0.9758\n",
      "F1 score and accuracy score for training set: 0.9736 , 0.9758.\n",
      "Made predictions in 0.0051 seconds.\n",
      "F1 score and accuracy score for test set: 0.5967 , 0.6310.\n",
      "\n"
     ]
    }
   ],
   "source": [
    "# TODO: Initialize the three models (XGBoost is initialized later)\n",
    "clf_A = LogisticRegression(random_state = 2021)\n",
    "clf_B = SVC(random_state = 2021, kernel='rbf')\n",
    "clf_C = xgb.XGBClassifier(seed = 2021)\n",
    "\n",
    "train_predict(clf_A, X_train, y_train, X_test, y_test)\n",
    "print('')\n",
    "train_predict(clf_B, X_train, y_train, X_test, y_test)\n",
    "print('')\n",
    "train_predict(clf_C, X_train, y_train, X_test, y_test)\n",
    "print('')"
   ]
  },
  {
   "cell_type": "markdown",
   "metadata": {
    "papermill": {
     "duration": 0.031327,
     "end_time": "2021-01-27T10:07:20.282465",
     "exception": false,
     "start_time": "2021-01-27T10:07:20.251138",
     "status": "completed"
    },
    "tags": []
   },
   "source": [
    "**Clearly XGBoost seems like the best model as it has the highest F1 score and accuracy score on the test set.**"
   ]
  },
  {
   "cell_type": "markdown",
   "metadata": {
    "papermill": {
     "duration": 0.031128,
     "end_time": "2021-01-27T10:07:20.345335",
     "exception": false,
     "start_time": "2021-01-27T10:07:20.314207",
     "status": "completed"
    },
    "tags": []
   },
   "source": [
    "# Tuning the parameters of XGBoost."
   ]
  },
  {
   "cell_type": "code",
   "execution_count": 13,
   "metadata": {
    "execution": {
     "iopub.execute_input": "2021-01-27T10:07:20.430107Z",
     "iopub.status.busy": "2021-01-27T10:07:20.417011Z",
     "iopub.status.idle": "2021-01-27T10:07:24.310819Z",
     "shell.execute_reply": "2021-01-27T10:07:24.311574Z"
    },
    "papermill": {
     "duration": 3.934832,
     "end_time": "2021-01-27T10:07:24.311757",
     "exception": false,
     "start_time": "2021-01-27T10:07:20.376925",
     "status": "completed"
    },
    "tags": []
   },
   "outputs": [
    {
     "name": "stdout",
     "output_type": "stream",
     "text": [
      "[10:07:20] WARNING: ../src/learner.cc:516: \n",
      "Parameters: { early_stopping_rounds } might not be used.\n",
      "\n",
      "  This may not be accurate due to some parameters are only used in language bindings but\n",
      "  passed down to XGBoost core.  Or some parameters are not used but slip through this\n",
      "  verification. Please open an issue if you find above cases.\n",
      "\n",
      "\n",
      "[10:07:21] WARNING: ../src/learner.cc:516: \n",
      "Parameters: { early_stopping_rounds } might not be used.\n",
      "\n",
      "  This may not be accurate due to some parameters are only used in language bindings but\n",
      "  passed down to XGBoost core.  Or some parameters are not used but slip through this\n",
      "  verification. Please open an issue if you find above cases.\n",
      "\n",
      "\n",
      "[10:07:21] WARNING: ../src/learner.cc:516: \n",
      "Parameters: { early_stopping_rounds } might not be used.\n",
      "\n",
      "  This may not be accurate due to some parameters are only used in language bindings but\n",
      "  passed down to XGBoost core.  Or some parameters are not used but slip through this\n",
      "  verification. Please open an issue if you find above cases.\n",
      "\n",
      "\n",
      "[10:07:22] WARNING: ../src/learner.cc:516: \n",
      "Parameters: { early_stopping_rounds } might not be used.\n",
      "\n",
      "  This may not be accurate due to some parameters are only used in language bindings but\n",
      "  passed down to XGBoost core.  Or some parameters are not used but slip through this\n",
      "  verification. Please open an issue if you find above cases.\n",
      "\n",
      "\n",
      "[10:07:22] WARNING: ../src/learner.cc:516: \n",
      "Parameters: { early_stopping_rounds } might not be used.\n",
      "\n",
      "  This may not be accurate due to some parameters are only used in language bindings but\n",
      "  passed down to XGBoost core.  Or some parameters are not used but slip through this\n",
      "  verification. Please open an issue if you find above cases.\n",
      "\n",
      "\n",
      "[10:07:23] WARNING: ../src/learner.cc:516: \n",
      "Parameters: { early_stopping_rounds } might not be used.\n",
      "\n",
      "  This may not be accurate due to some parameters are only used in language bindings but\n",
      "  passed down to XGBoost core.  Or some parameters are not used but slip through this\n",
      "  verification. Please open an issue if you find above cases.\n",
      "\n",
      "\n",
      "XGBClassifier(base_score=0.5, booster='gbtree', colsample_bylevel=1,\n",
      "              colsample_bynode=1, colsample_bytree=0.8,\n",
      "              early_stopping_rounds=10, gamma=0.4, gpu_id=-1,\n",
      "              importance_type='gain', interaction_constraints='',\n",
      "              learning_rate=0.01, max_delta_step=0, max_depth=5,\n",
      "              min_child_weight=3, missing=nan, monotone_constraints='()',\n",
      "              n_estimators=200, n_jobs=0, num_parallel_tree=1, random_state=2,\n",
      "              reg_alpha=1e-05, reg_lambda=1, scale_pos_weight=1, seed=2,\n",
      "              subsample=0.8, tree_method='exact', validate_parameters=1,\n",
      "              verbosity=None)\n",
      "Made predictions in 0.0239 seconds.\n",
      "F1 score and accuracy score for training set: 0.6490 , 0.6986.\n",
      "Made predictions in 0.0072 seconds.\n",
      "F1 score and accuracy score for test set: 0.6171 , 0.6650.\n"
     ]
    }
   ],
   "source": [
    "# TODO: Import 'GridSearchCV' and 'make_scorer'\n",
    "from sklearn.model_selection import GridSearchCV\n",
    "from sklearn.metrics import make_scorer\n",
    "\n",
    "\n",
    "# TODO: Create the parameters list you wish to tune\n",
    "parameters = { 'learning_rate' : [0.01],\n",
    "               'n_estimators' : [200],\n",
    "               'max_depth': [5],\n",
    "               'min_child_weight': [3],\n",
    "               'gamma':[0.4],\n",
    "               'subsample' : [0.8],\n",
    "               'colsample_bytree' : [0.8],\n",
    "               'scale_pos_weight' : [1],\n",
    "               'reg_alpha':[1e-5]\n",
    "              \n",
    "             }  \n",
    "\n",
    "# TODO: Initialize the classifier\n",
    "clf = xgb.XGBClassifier(seed=2,early_stopping_rounds=10)\n",
    "\n",
    "# TODO: Make an f1 scoring function using 'make_scorer' \n",
    "f1_scorer = make_scorer(f1_score,pos_label='H')\n",
    "\n",
    "# TODO: Perform grid search on the classifier using the f1_scorer as the scoring method\n",
    "grid_obj = GridSearchCV(clf,\n",
    "                        scoring=f1_scorer,\n",
    "                        param_grid=parameters,\n",
    "                        cv=5)\n",
    "\n",
    "# TODO: Fit the grid search object to the training data and find the optimal parameters\n",
    "grid_obj = grid_obj.fit(X_train,y_train,verbose=True)\n",
    "\n",
    "# Get the estimator\n",
    "clf = grid_obj.best_estimator_\n",
    "print(clf)\n",
    "\n",
    "# Report the final F1 score for training and testing after parameter tuning\n",
    "f1, acc = predict_labels(clf, X_train, y_train)\n",
    "print(\"F1 score and accuracy score for training set: {:.4f} , {:.4f}.\".format(f1 , acc))\n",
    "\n",
    "f1, acc = predict_labels(clf, X_test, y_test)\n",
    "print(\"F1 score and accuracy score for test set: {:.4f} , {:.4f}.\".format(f1 , acc))"
   ]
  },
  {
   "cell_type": "code",
   "execution_count": 14,
   "metadata": {
    "execution": {
     "iopub.execute_input": "2021-01-27T10:07:24.391694Z",
     "iopub.status.busy": "2021-01-27T10:07:24.390598Z",
     "iopub.status.idle": "2021-01-27T10:07:24.427440Z",
     "shell.execute_reply": "2021-01-27T10:07:24.428335Z"
    },
    "papermill": {
     "duration": 0.081136,
     "end_time": "2021-01-27T10:07:24.428522",
     "exception": false,
     "start_time": "2021-01-27T10:07:24.347386",
     "status": "completed"
    },
    "tags": []
   },
   "outputs": [
    {
     "data": {
      "text/html": [
       "<div>\n",
       "<style scoped>\n",
       "    .dataframe tbody tr th:only-of-type {\n",
       "        vertical-align: middle;\n",
       "    }\n",
       "\n",
       "    .dataframe tbody tr th {\n",
       "        vertical-align: top;\n",
       "    }\n",
       "\n",
       "    .dataframe thead th {\n",
       "        text-align: right;\n",
       "    }\n",
       "</style>\n",
       "<table border=\"1\" class=\"dataframe\">\n",
       "  <thead>\n",
       "    <tr style=\"text-align: right;\">\n",
       "      <th></th>\n",
       "      <th>FTR</th>\n",
       "      <th>HTGS</th>\n",
       "      <th>ATGS</th>\n",
       "      <th>HTGC</th>\n",
       "      <th>ATGC</th>\n",
       "      <th>HomeTeamLP</th>\n",
       "      <th>AwayTeamLP</th>\n",
       "      <th>HTGD</th>\n",
       "      <th>ATGD</th>\n",
       "      <th>DiffPts</th>\n",
       "      <th>...</th>\n",
       "      <th>B365A</th>\n",
       "      <th>IWH</th>\n",
       "      <th>IWD</th>\n",
       "      <th>IWA</th>\n",
       "      <th>LBH</th>\n",
       "      <th>LBD</th>\n",
       "      <th>LBA</th>\n",
       "      <th>WHH</th>\n",
       "      <th>WHD</th>\n",
       "      <th>WHA</th>\n",
       "    </tr>\n",
       "  </thead>\n",
       "  <tbody>\n",
       "    <tr>\n",
       "      <th>0</th>\n",
       "      <td>NH</td>\n",
       "      <td>19</td>\n",
       "      <td>37</td>\n",
       "      <td>19</td>\n",
       "      <td>7</td>\n",
       "      <td>18.0</td>\n",
       "      <td>4.0</td>\n",
       "      <td>0.000000</td>\n",
       "      <td>1.666667</td>\n",
       "      <td>-1.111111</td>\n",
       "      <td>...</td>\n",
       "      <td>1.57</td>\n",
       "      <td>6.00</td>\n",
       "      <td>4.00</td>\n",
       "      <td>1.57</td>\n",
       "      <td>6.85</td>\n",
       "      <td>4.04</td>\n",
       "      <td>1.59</td>\n",
       "      <td>6.50</td>\n",
       "      <td>3.90</td>\n",
       "      <td>1.55</td>\n",
       "    </tr>\n",
       "    <tr>\n",
       "      <th>1</th>\n",
       "      <td>H</td>\n",
       "      <td>37</td>\n",
       "      <td>15</td>\n",
       "      <td>23</td>\n",
       "      <td>33</td>\n",
       "      <td>6.0</td>\n",
       "      <td>7.0</td>\n",
       "      <td>0.777778</td>\n",
       "      <td>-1.000000</td>\n",
       "      <td>1.222222</td>\n",
       "      <td>...</td>\n",
       "      <td>15.00</td>\n",
       "      <td>1.25</td>\n",
       "      <td>6.10</td>\n",
       "      <td>11.00</td>\n",
       "      <td>1.23</td>\n",
       "      <td>6.40</td>\n",
       "      <td>14.96</td>\n",
       "      <td>1.22</td>\n",
       "      <td>6.00</td>\n",
       "      <td>15.00</td>\n",
       "    </tr>\n",
       "    <tr>\n",
       "      <th>2</th>\n",
       "      <td>H</td>\n",
       "      <td>25</td>\n",
       "      <td>20</td>\n",
       "      <td>28</td>\n",
       "      <td>24</td>\n",
       "      <td>12.0</td>\n",
       "      <td>15.0</td>\n",
       "      <td>-0.166667</td>\n",
       "      <td>-0.222222</td>\n",
       "      <td>0.111111</td>\n",
       "      <td>...</td>\n",
       "      <td>4.33</td>\n",
       "      <td>1.85</td>\n",
       "      <td>3.60</td>\n",
       "      <td>4.30</td>\n",
       "      <td>1.95</td>\n",
       "      <td>3.55</td>\n",
       "      <td>4.40</td>\n",
       "      <td>1.91</td>\n",
       "      <td>3.50</td>\n",
       "      <td>4.20</td>\n",
       "    </tr>\n",
       "    <tr>\n",
       "      <th>3</th>\n",
       "      <td>NH</td>\n",
       "      <td>17</td>\n",
       "      <td>29</td>\n",
       "      <td>33</td>\n",
       "      <td>29</td>\n",
       "      <td>18.0</td>\n",
       "      <td>2.0</td>\n",
       "      <td>-0.888889</td>\n",
       "      <td>0.000000</td>\n",
       "      <td>-0.666667</td>\n",
       "      <td>...</td>\n",
       "      <td>1.57</td>\n",
       "      <td>5.80</td>\n",
       "      <td>4.05</td>\n",
       "      <td>1.57</td>\n",
       "      <td>6.27</td>\n",
       "      <td>4.10</td>\n",
       "      <td>1.62</td>\n",
       "      <td>6.00</td>\n",
       "      <td>4.00</td>\n",
       "      <td>1.57</td>\n",
       "    </tr>\n",
       "    <tr>\n",
       "      <th>4</th>\n",
       "      <td>NH</td>\n",
       "      <td>35</td>\n",
       "      <td>21</td>\n",
       "      <td>14</td>\n",
       "      <td>21</td>\n",
       "      <td>5.0</td>\n",
       "      <td>9.0</td>\n",
       "      <td>1.166667</td>\n",
       "      <td>0.000000</td>\n",
       "      <td>0.833333</td>\n",
       "      <td>...</td>\n",
       "      <td>11.00</td>\n",
       "      <td>1.35</td>\n",
       "      <td>5.30</td>\n",
       "      <td>8.00</td>\n",
       "      <td>1.33</td>\n",
       "      <td>5.42</td>\n",
       "      <td>11.37</td>\n",
       "      <td>1.30</td>\n",
       "      <td>5.25</td>\n",
       "      <td>11.00</td>\n",
       "    </tr>\n",
       "  </tbody>\n",
       "</table>\n",
       "<p>5 rows × 26 columns</p>\n",
       "</div>"
      ],
      "text/plain": [
       "  FTR  HTGS  ATGS  HTGC  ATGC  HomeTeamLP  AwayTeamLP      HTGD      ATGD  \\\n",
       "0  NH    19    37    19     7        18.0         4.0  0.000000  1.666667   \n",
       "1   H    37    15    23    33         6.0         7.0  0.777778 -1.000000   \n",
       "2   H    25    20    28    24        12.0        15.0 -0.166667 -0.222222   \n",
       "3  NH    17    29    33    29        18.0         2.0 -0.888889  0.000000   \n",
       "4  NH    35    21    14    21         5.0         9.0  1.166667  0.000000   \n",
       "\n",
       "    DiffPts  ...  B365A   IWH   IWD    IWA   LBH   LBD    LBA   WHH   WHD  \\\n",
       "0 -1.111111  ...   1.57  6.00  4.00   1.57  6.85  4.04   1.59  6.50  3.90   \n",
       "1  1.222222  ...  15.00  1.25  6.10  11.00  1.23  6.40  14.96  1.22  6.00   \n",
       "2  0.111111  ...   4.33  1.85  3.60   4.30  1.95  3.55   4.40  1.91  3.50   \n",
       "3 -0.666667  ...   1.57  5.80  4.05   1.57  6.27  4.10   1.62  6.00  4.00   \n",
       "4  0.833333  ...  11.00  1.35  5.30   8.00  1.33  5.42  11.37  1.30  5.25   \n",
       "\n",
       "     WHA  \n",
       "0   1.55  \n",
       "1  15.00  \n",
       "2   4.20  \n",
       "3   1.57  \n",
       "4  11.00  \n",
       "\n",
       "[5 rows x 26 columns]"
      ]
     },
     "metadata": {},
     "output_type": "display_data"
    },
    {
     "data": {
      "text/plain": [
       "\"\\n# Standardising the data.\\nfrom sklearn.preprocessing import scale\\n# all\\ncols = [['HTGS', 'ATGS', 'HTGC', 'ATGC','DiffLP'\\n         ,'HomeTeamLP', 'AwayTeamLP'\\n         #,'B365H','B365D','B365A','IWH','IWD','IWA','LBH','LBD','LBA','WHH','WHD','WHA'\\n        ]]\\n# odds\\n#cols = [['B365H','B365D','B365A','IWH','IWD','IWA','LBH','LBD','LBA','WHH','WHD','WHA'\\n#        ]]\\nfor col in cols:\\n    test_x[col] = scale(test_x[col])\\n    \""
      ]
     },
     "execution_count": 14,
     "metadata": {},
     "output_type": "execute_result"
    }
   ],
   "source": [
    "# Remove first 3 matchweeks\n",
    "#test = test[test.MW > 3]\n",
    "'''\n",
    "test.drop([\n",
    "    'Unnamed: 0','HomeTeam', 'AwayTeam_x', 'Date', 'AwayTeam_y',\n",
    "    'MW',\n",
    "    'HTGD', 'ATGD',\n",
    "    'HTFormPtsStr', 'ATFormPtsStr', \n",
    "    'FTHG', 'FTAG',\n",
    "    'HTGS', 'ATGS', 'HTGC', 'ATGC',\n",
    "    'HomeTeamLP', 'AwayTeamLP',\n",
    "    'DiffPts','DiffFormPts','DiffLP',\n",
    "    'HTFormPtsStr', 'ATFormPtsStr',\n",
    "    'HTP', 'ATP',\n",
    "    'HTFormPts','ATFormPts',\n",
    "    #'B365H','B365D','B365A','IWH','IWD','IWA','LBH','LBD','LBA','WHH','WHD','WHA'\n",
    "    'HM1', 'HM2', 'HM3', 'AM1', 'AM2', 'AM3','HM4','HM5','AM4','AM5'\n",
    "    ,'HTLossStreak5','ATLossStreak5','HTWinStreak5','ATWinStreak5'\n",
    "    ,'HTWinStreak3','HTLossStreak3','ATWinStreak3','ATLossStreak3'\n",
    "],1, inplace=True)\n",
    "'''\n",
    "test = test[col4]\n",
    "# Preview data.\n",
    "display(test.head())\n",
    "\n",
    "# Separate into feature set and target variable\n",
    "test_x = test.drop(['FTR'],1)\n",
    "test_y = test['FTR']\n",
    "'''\n",
    "# Standardising the data.\n",
    "from sklearn.preprocessing import scale\n",
    "# all\n",
    "cols = [['HTGS', 'ATGS', 'HTGC', 'ATGC','DiffLP'\n",
    "         ,'HomeTeamLP', 'AwayTeamLP'\n",
    "         #,'B365H','B365D','B365A','IWH','IWD','IWA','LBH','LBD','LBA','WHH','WHD','WHA'\n",
    "        ]]\n",
    "# odds\n",
    "#cols = [['B365H','B365D','B365A','IWH','IWD','IWA','LBH','LBD','LBA','WHH','WHD','WHA'\n",
    "#        ]]\n",
    "for col in cols:\n",
    "    test_x[col] = scale(test_x[col])\n",
    "    '''"
   ]
  },
  {
   "cell_type": "markdown",
   "metadata": {
    "collapsed": true,
    "papermill": {
     "duration": 0.035577,
     "end_time": "2021-01-27T10:07:24.505288",
     "exception": false,
     "start_time": "2021-01-27T10:07:24.469711",
     "status": "completed"
    },
    "tags": []
   },
   "source": [
    "# Fitting the model on the whole dataset for future predictions."
   ]
  },
  {
   "cell_type": "code",
   "execution_count": 15,
   "metadata": {
    "execution": {
     "iopub.execute_input": "2021-01-27T10:07:24.573361Z",
     "iopub.status.busy": "2021-01-27T10:07:24.572258Z",
     "iopub.status.idle": "2021-01-27T10:10:15.471983Z",
     "shell.execute_reply": "2021-01-27T10:10:15.473099Z"
    },
    "papermill": {
     "duration": 170.93974,
     "end_time": "2021-01-27T10:10:15.473324",
     "exception": false,
     "start_time": "2021-01-27T10:07:24.533584",
     "status": "completed"
    },
    "tags": []
   },
   "outputs": [
    {
     "name": "stdout",
     "output_type": "stream",
     "text": [
      "XGBClassifier(base_score=0.5, booster='gbtree', colsample_bylevel=1,\n",
      "              colsample_bynode=1, colsample_bytree=0.8, gamma=0.2, gpu_id=-1,\n",
      "              importance_type='gain', interaction_constraints='',\n",
      "              learning_rate=0.01, max_delta_step=0, max_depth=9,\n",
      "              min_child_weight=5, missing=nan, monotone_constraints='()',\n",
      "              n_estimators=5000, n_jobs=0, num_parallel_tree=1, random_state=2,\n",
      "              reg_alpha=0.01, reg_lambda=1, scale_pos_weight=1, seed=2,\n",
      "              subsample=0.8, tree_method='exact', validate_parameters=1,\n",
      "              verbosity=None)\n",
      "Made predictions in 1.2787 seconds.\n",
      "F1 score and accuracy score for training set: 0.9996 , 0.9997.\n",
      "Made predictions in 0.1306 seconds.\n",
      "F1 score and accuracy score for test set: 0.5768 , 0.6169.\n"
     ]
    }
   ],
   "source": [
    "from pprint import pprint\n",
    "\n",
    "\n",
    "# TODO: Create the parameters list you wish to tune\n",
    "parameters = { 'learning_rate' : [0.01],\n",
    "               'n_estimators' : [5000],\n",
    "               'max_depth': [9],\n",
    "               'min_child_weight': [5],\n",
    "               'gamma':[0.2],\n",
    "               'subsample':[0.8],\n",
    "               'colsample_bytree':[0.8],\n",
    "               'scale_pos_weight' : [1],\n",
    "               'reg_alpha':[1e-2]\n",
    "             }  \n",
    "\n",
    "# TODO: Initialize the classifier\n",
    "clf = xgb.XGBClassifier(seed=2)\n",
    "\n",
    "# TODO: Make an f1 scoring function using 'make_scorer' \n",
    "f1_scorer = make_scorer(f1_score,pos_label='H')\n",
    "\n",
    "# TODO: Perform grid search on the classifier using the f1_scorer as the scoring method\n",
    "grid_obj = GridSearchCV(clf,\n",
    "                        scoring=f1_scorer,\n",
    "                        param_grid=parameters,\n",
    "                        cv=5)\n",
    "\n",
    "# TODO: Fit the grid search object to the training data and find the optimal parameters\n",
    "grid_obj = grid_obj.fit(X_all,y_all)\n",
    "\n",
    "# Get the estimator\n",
    "clf = grid_obj.best_estimator_\n",
    "print(clf)\n",
    "\n",
    "# Report the final F1 score for training and testing after parameter tuning\n",
    "f1, acc = predict_labels(clf, X_all, y_all)\n",
    "print(\"F1 score and accuracy score for training set: {:.4f} , {:.4f}.\".format(f1 , acc))\n",
    "f1, acc = predict_labels(clf, test_x, test_y)\n",
    "print(\"F1 score and accuracy score for test set: {:.4f} , {:.4f}.\".format(f1 , acc))"
   ]
  },
  {
   "cell_type": "code",
   "execution_count": 16,
   "metadata": {
    "execution": {
     "iopub.execute_input": "2021-01-27T10:10:15.569078Z",
     "iopub.status.busy": "2021-01-27T10:10:15.567951Z",
     "iopub.status.idle": "2021-01-27T10:10:15.697609Z",
     "shell.execute_reply": "2021-01-27T10:10:15.698608Z"
    },
    "papermill": {
     "duration": 0.186737,
     "end_time": "2021-01-27T10:10:15.698799",
     "exception": false,
     "start_time": "2021-01-27T10:10:15.512062",
     "status": "completed"
    },
    "tags": []
   },
   "outputs": [
    {
     "data": {
      "text/plain": [
       "array(['NH', 'NH', 'NH', 'NH', 'H', 'NH', 'H', 'H', 'H', 'H', 'NH', 'H',\n",
       "       'H', 'NH', 'NH', 'H', 'H', 'H', 'NH', 'NH', 'NH', 'H', 'NH', 'H',\n",
       "       'H', 'H', 'NH', 'NH', 'H', 'NH', 'H', 'NH', 'H', 'NH', 'NH', 'H',\n",
       "       'NH', 'NH', 'H', 'H', 'NH', 'H', 'H', 'H', 'H', 'NH', 'NH', 'H',\n",
       "       'NH', 'H', 'NH', 'NH', 'H', 'H', 'H', 'NH', 'H', 'H', 'NH', 'NH',\n",
       "       'H', 'NH', 'NH', 'H', 'NH', 'NH', 'NH', 'H', 'NH', 'H', 'NH', 'NH',\n",
       "       'NH', 'H', 'H', 'H', 'H', 'NH', 'H', 'NH', 'NH', 'H', 'NH', 'NH',\n",
       "       'NH', 'H', 'H', 'H', 'H', 'H', 'H', 'NH', 'NH', 'NH', 'NH', 'NH',\n",
       "       'NH', 'H', 'NH', 'NH', 'NH', 'H', 'H', 'H', 'NH', 'H', 'H', 'H',\n",
       "       'NH', 'NH', 'NH', 'NH', 'H', 'NH', 'NH', 'H', 'NH', 'NH', 'NH',\n",
       "       'NH', 'H', 'NH', 'H', 'H', 'NH', 'NH', 'NH', 'H', 'H', 'NH', 'NH',\n",
       "       'H', 'NH', 'NH', 'NH', 'NH', 'NH', 'NH', 'NH', 'H', 'NH', 'NH',\n",
       "       'H', 'H', 'H', 'NH', 'NH', 'H', 'H', 'NH', 'NH', 'NH', 'NH', 'NH',\n",
       "       'H', 'H', 'NH', 'NH', 'NH', 'H', 'NH', 'H', 'NH', 'NH', 'NH', 'H',\n",
       "       'H', 'NH', 'H', 'NH', 'NH', 'H', 'H', 'NH', 'H', 'H', 'H', 'H',\n",
       "       'NH', 'NH', 'H', 'NH', 'H', 'H', 'H', 'H', 'NH', 'NH', 'H', 'NH',\n",
       "       'H', 'NH', 'NH', 'NH', 'NH', 'H', 'H', 'NH', 'NH', 'H', 'NH', 'H',\n",
       "       'H', 'H', 'NH', 'H', 'H', 'H', 'NH', 'H', 'H', 'NH', 'H', 'H',\n",
       "       'NH', 'H', 'H', 'NH', 'NH', 'NH', 'H', 'H', 'NH', 'H', 'NH', 'H',\n",
       "       'H', 'NH', 'H', 'NH', 'NH', 'NH', 'NH', 'H', 'NH', 'NH', 'H', 'NH',\n",
       "       'H', 'H', 'NH', 'H', 'NH', 'NH', 'H', 'H', 'H', 'NH', 'NH', 'NH',\n",
       "       'H', 'NH', 'NH', 'NH', 'H', 'NH', 'NH', 'NH', 'NH', 'H', 'NH',\n",
       "       'NH', 'NH', 'NH', 'H', 'NH', 'H', 'NH', 'H', 'NH', 'NH', 'NH', 'H',\n",
       "       'H', 'H', 'H', 'H', 'NH', 'H', 'H', 'NH', 'NH', 'H', 'NH', 'NH',\n",
       "       'NH', 'NH', 'H', 'NH', 'NH', 'NH', 'H', 'H', 'H', 'H', 'H', 'H',\n",
       "       'NH', 'NH', 'NH', 'H', 'H', 'NH', 'NH', 'NH', 'NH', 'NH', 'H', 'H',\n",
       "       'NH', 'NH', 'NH', 'NH', 'NH', 'H', 'NH', 'NH', 'NH', 'NH', 'NH',\n",
       "       'NH', 'H', 'NH', 'NH', 'NH', 'H', 'NH', 'NH', 'H', 'NH', 'NH', 'H',\n",
       "       'NH', 'NH', 'NH', 'H', 'H', 'H', 'NH', 'NH', 'NH', 'H', 'H', 'H',\n",
       "       'NH', 'H', 'NH', 'H', 'H', 'H', 'NH', 'NH', 'H', 'H', 'NH', 'H',\n",
       "       'H', 'H', 'NH', 'NH', 'NH', 'NH', 'NH', 'H', 'H', 'NH', 'NH', 'NH',\n",
       "       'H', 'NH', 'H', 'NH', 'H', 'H', 'H', 'NH', 'NH', 'NH', 'NH', 'H',\n",
       "       'NH', 'NH', 'NH', 'NH', 'NH', 'NH', 'H', 'NH', 'NH', 'H', 'H',\n",
       "       'NH', 'H', 'NH', 'NH', 'H', 'H', 'H', 'NH', 'NH', 'NH', 'NH', 'H',\n",
       "       'NH', 'NH', 'NH', 'NH', 'H', 'H', 'NH', 'H', 'NH', 'NH', 'NH', 'H',\n",
       "       'NH', 'NH', 'NH', 'H', 'H', 'H', 'H', 'NH', 'H', 'H', 'NH', 'NH',\n",
       "       'NH', 'NH', 'NH', 'NH', 'H', 'H', 'H', 'NH', 'NH', 'NH', 'NH', 'H',\n",
       "       'NH', 'NH', 'NH', 'H', 'NH', 'H', 'H', 'H', 'H', 'NH', 'NH', 'H',\n",
       "       'H', 'H', 'H', 'H', 'NH', 'NH', 'H', 'NH', 'NH', 'NH', 'H', 'H',\n",
       "       'H', 'H', 'NH', 'H', 'H', 'NH', 'H', 'H', 'NH', 'NH', 'NH', 'H',\n",
       "       'NH', 'H', 'H', 'NH', 'H', 'H', 'H', 'NH', 'NH', 'NH', 'NH', 'NH',\n",
       "       'H', 'H', 'H', 'NH', 'H', 'H', 'H', 'NH', 'H', 'NH', 'H', 'NH',\n",
       "       'H', 'NH', 'NH', 'NH', 'NH', 'NH', 'NH', 'H', 'NH', 'NH', 'H', 'H',\n",
       "       'H', 'H', 'NH', 'NH', 'H', 'H', 'NH', 'NH', 'NH', 'NH', 'NH', 'H',\n",
       "       'NH', 'H', 'NH', 'NH', 'NH', 'H', 'H', 'NH', 'H', 'H', 'H', 'H',\n",
       "       'H', 'NH', 'H', 'NH', 'H', 'NH', 'H', 'NH', 'H', 'NH', 'H', 'NH',\n",
       "       'NH', 'NH', 'NH', 'NH', 'H', 'H', 'NH', 'NH', 'H', 'NH', 'NH',\n",
       "       'NH', 'H', 'H', 'NH', 'H', 'NH', 'NH', 'NH', 'H', 'NH', 'NH', 'NH',\n",
       "       'NH', 'NH', 'NH', 'H', 'NH', 'H', 'NH', 'NH', 'H', 'NH', 'H', 'NH',\n",
       "       'H', 'NH', 'NH', 'NH', 'H', 'NH', 'H', 'NH'], dtype=object)"
      ]
     },
     "execution_count": 16,
     "metadata": {},
     "output_type": "execute_result"
    }
   ],
   "source": [
    "y_pred = clf.predict(test_x)\n",
    "y_pred"
   ]
  },
  {
   "cell_type": "code",
   "execution_count": 17,
   "metadata": {
    "execution": {
     "iopub.execute_input": "2021-01-27T10:10:15.787117Z",
     "iopub.status.busy": "2021-01-27T10:10:15.786353Z",
     "iopub.status.idle": "2021-01-27T10:10:15.792087Z",
     "shell.execute_reply": "2021-01-27T10:10:15.792676Z"
    },
    "papermill": {
     "duration": 0.054745,
     "end_time": "2021-01-27T10:10:15.792865",
     "exception": false,
     "start_time": "2021-01-27T10:10:15.738120",
     "status": "completed"
    },
    "tags": []
   },
   "outputs": [
    {
     "data": {
      "text/plain": [
       "array(['NH', 'H', 'H', 'NH', 'NH', 'NH', 'NH', 'NH', 'NH', 'NH', 'NH',\n",
       "       'NH', 'NH', 'NH', 'H', 'H', 'H', 'H', 'NH', 'NH', 'H', 'H', 'NH',\n",
       "       'H', 'NH', 'NH', 'H', 'NH', 'H', 'NH', 'H', 'NH', 'NH', 'NH', 'NH',\n",
       "       'NH', 'NH', 'NH', 'NH', 'H', 'NH', 'H', 'NH', 'H', 'NH', 'NH', 'H',\n",
       "       'H', 'NH', 'H', 'H', 'H', 'H', 'H', 'H', 'H', 'NH', 'H', 'NH',\n",
       "       'NH', 'H', 'H', 'NH', 'NH', 'H', 'H', 'H', 'NH', 'NH', 'H', 'NH',\n",
       "       'NH', 'H', 'H', 'H', 'NH', 'H', 'NH', 'H', 'NH', 'NH', 'NH', 'NH',\n",
       "       'NH', 'NH', 'H', 'NH', 'H', 'H', 'H', 'NH', 'NH', 'H', 'NH', 'H',\n",
       "       'NH', 'H', 'H', 'NH', 'NH', 'H', 'H', 'H', 'H', 'H', 'NH', 'H',\n",
       "       'H', 'H', 'NH', 'H', 'NH', 'H', 'NH', 'H', 'H', 'NH', 'NH', 'H',\n",
       "       'H', 'NH', 'NH', 'H', 'H', 'H', 'H', 'H', 'NH', 'H', 'NH', 'NH',\n",
       "       'H', 'H', 'NH', 'NH', 'H', 'H', 'NH', 'H', 'H', 'NH', 'NH', 'H',\n",
       "       'H', 'H', 'H', 'H', 'H', 'H', 'NH', 'NH', 'NH', 'NH', 'H', 'H',\n",
       "       'NH', 'NH', 'H', 'H', 'H', 'H', 'H', 'NH', 'H', 'NH', 'NH', 'NH',\n",
       "       'NH', 'H', 'H', 'NH', 'NH', 'NH', 'NH', 'H', 'NH', 'H', 'NH', 'NH',\n",
       "       'H', 'H', 'NH', 'NH', 'H', 'NH', 'NH', 'NH', 'NH', 'H', 'NH', 'H',\n",
       "       'H', 'NH', 'NH', 'H', 'H', 'NH', 'H', 'NH', 'H', 'NH', 'NH', 'H',\n",
       "       'NH', 'NH', 'H', 'NH', 'NH', 'NH', 'NH', 'H', 'NH', 'NH', 'H',\n",
       "       'NH', 'NH', 'H', 'NH', 'NH', 'H', 'H', 'NH', 'NH', 'H', 'H', 'NH',\n",
       "       'NH', 'H', 'NH', 'NH', 'H', 'NH', 'NH', 'NH', 'NH', 'NH', 'H',\n",
       "       'NH', 'NH', 'NH', 'NH', 'NH', 'H', 'H', 'H', 'NH', 'H', 'NH', 'H',\n",
       "       'NH', 'H', 'NH', 'H', 'NH', 'H', 'NH', 'H', 'H', 'NH', 'NH', 'NH',\n",
       "       'H', 'H', 'NH', 'H', 'NH', 'NH', 'H', 'H', 'NH', 'NH', 'NH', 'NH',\n",
       "       'H', 'H', 'H', 'H', 'NH', 'H', 'NH', 'H', 'H', 'H', 'NH', 'NH',\n",
       "       'NH', 'H', 'NH', 'NH', 'H', 'H', 'H', 'NH', 'H', 'H', 'NH', 'NH',\n",
       "       'NH', 'NH', 'H', 'NH', 'H', 'H', 'NH', 'NH', 'NH', 'NH', 'NH', 'H',\n",
       "       'NH', 'H', 'NH', 'NH', 'H', 'H', 'H', 'NH', 'NH', 'NH', 'NH', 'NH',\n",
       "       'H', 'H', 'H', 'NH', 'NH', 'H', 'H', 'H', 'H', 'NH', 'NH', 'NH',\n",
       "       'NH', 'NH', 'NH', 'NH', 'H', 'NH', 'H', 'NH', 'NH', 'NH', 'H', 'H',\n",
       "       'H', 'NH', 'NH', 'H', 'NH', 'H', 'NH', 'H', 'H', 'H', 'H', 'H',\n",
       "       'H', 'NH', 'NH', 'H', 'NH', 'H', 'NH', 'NH', 'NH', 'H', 'NH', 'NH',\n",
       "       'NH', 'H', 'H', 'NH', 'NH', 'H', 'NH', 'NH', 'NH', 'NH', 'NH',\n",
       "       'NH', 'NH', 'NH', 'NH', 'H', 'NH', 'H', 'H', 'NH', 'H', 'H', 'NH',\n",
       "       'NH', 'H', 'H', 'NH', 'H', 'NH', 'H', 'H', 'NH', 'NH', 'H', 'NH',\n",
       "       'NH', 'NH', 'NH', 'H', 'H', 'NH', 'NH', 'NH', 'H', 'H', 'H', 'NH',\n",
       "       'H', 'H', 'H', 'H', 'NH', 'H', 'H', 'NH', 'H', 'NH', 'NH', 'NH',\n",
       "       'NH', 'NH', 'NH', 'NH', 'NH', 'H', 'NH', 'NH', 'H', 'H', 'H', 'H',\n",
       "       'H', 'NH', 'NH', 'NH', 'NH', 'H', 'H', 'NH', 'NH', 'NH', 'NH', 'H',\n",
       "       'NH', 'H', 'NH', 'NH', 'NH', 'NH', 'NH', 'H', 'H', 'NH', 'H', 'NH',\n",
       "       'NH', 'NH', 'NH', 'H', 'NH', 'H', 'H', 'H', 'H', 'NH', 'H', 'NH',\n",
       "       'H', 'H', 'H', 'H', 'H', 'NH', 'NH', 'NH', 'H', 'H', 'NH', 'NH',\n",
       "       'H', 'H', 'H', 'H', 'NH', 'NH', 'NH', 'H', 'H', 'H', 'NH', 'H',\n",
       "       'NH', 'NH', 'NH', 'H', 'NH', 'NH', 'H', 'NH', 'NH', 'H', 'NH', 'H',\n",
       "       'H', 'NH', 'NH', 'H', 'H', 'H', 'NH', 'H', 'NH', 'NH', 'NH', 'NH',\n",
       "       'H', 'NH', 'H', 'H', 'H', 'H', 'NH', 'H', 'H', 'NH', 'H', 'NH',\n",
       "       'NH', 'H', 'H', 'H', 'NH', 'H', 'NH', 'H', 'H', 'NH', 'NH', 'NH',\n",
       "       'NH', 'NH', 'NH', 'H', 'NH', 'H', 'NH', 'H', 'H', 'H', 'H', 'NH',\n",
       "       'H', 'NH', 'H', 'NH', 'H', 'NH', 'H', 'NH', 'NH', 'H', 'NH', 'NH',\n",
       "       'H', 'NH', 'NH', 'H', 'NH', 'H', 'NH', 'H', 'H', 'NH', 'H', 'NH',\n",
       "       'NH', 'NH', 'H', 'NH', 'H', 'NH'], dtype=object)"
      ]
     },
     "execution_count": 17,
     "metadata": {},
     "output_type": "execute_result"
    }
   ],
   "source": [
    "np.array(test_y)"
   ]
  },
  {
   "cell_type": "code",
   "execution_count": null,
   "metadata": {
    "papermill": {
     "duration": 0.03944,
     "end_time": "2021-01-27T10:10:15.872727",
     "exception": false,
     "start_time": "2021-01-27T10:10:15.833287",
     "status": "completed"
    },
    "tags": []
   },
   "outputs": [],
   "source": []
  }
 ],
 "metadata": {
  "kernelspec": {
   "display_name": "Python 3",
   "language": "python",
   "name": "python3"
  },
  "language_info": {
   "codemirror_mode": {
    "name": "ipython",
    "version": 3
   },
   "file_extension": ".py",
   "mimetype": "text/x-python",
   "name": "python",
   "nbconvert_exporter": "python",
   "pygments_lexer": "ipython3",
   "version": "3.7.6"
  },
  "papermill": {
   "duration": 188.272851,
   "end_time": "2021-01-27T10:10:16.015609",
   "environment_variables": {},
   "exception": null,
   "input_path": "__notebook__.ipynb",
   "output_path": "__notebook__.ipynb",
   "parameters": {},
   "start_time": "2021-01-27T10:07:07.742758",
   "version": "2.1.0"
  }
 },
 "nbformat": 4,
 "nbformat_minor": 4
}
